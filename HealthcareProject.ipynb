{
 "cells": [
  {
   "cell_type": "markdown",
   "id": "ae23758f",
   "metadata": {},
   "source": [
    "### Installing mlxtend."
   ]
  },
  {
   "cell_type": "code",
   "execution_count": 5,
   "id": "7e28e74b",
   "metadata": {},
   "outputs": [
    {
     "name": "stdout",
     "output_type": "stream",
     "text": [
      "Collecting mlxtend\n",
      "  Using cached mlxtend-0.19.0-py2.py3-none-any.whl (1.3 MB)\n",
      "Requirement already satisfied: scikit-learn>=0.20.3 in c:\\users\\hp\\anaconda3\\envs\\dab200\\lib\\site-packages (from mlxtend) (1.0.2)\n",
      "Requirement already satisfied: scipy>=1.2.1 in c:\\users\\hp\\anaconda3\\envs\\dab200\\lib\\site-packages (from mlxtend) (1.7.3)\n",
      "Requirement already satisfied: setuptools in c:\\users\\hp\\anaconda3\\envs\\dab200\\lib\\site-packages (from mlxtend) (58.0.4)\n",
      "Requirement already satisfied: pandas>=0.24.2 in c:\\users\\hp\\anaconda3\\envs\\dab200\\lib\\site-packages (from mlxtend) (1.3.5)\n",
      "Requirement already satisfied: matplotlib>=3.0.0 in c:\\users\\hp\\anaconda3\\envs\\dab200\\lib\\site-packages (from mlxtend) (3.5.1)\n",
      "Requirement already satisfied: numpy>=1.16.2 in c:\\users\\hp\\anaconda3\\envs\\dab200\\lib\\site-packages (from mlxtend) (1.21.2)\n",
      "Requirement already satisfied: joblib>=0.13.2 in c:\\users\\hp\\anaconda3\\envs\\dab200\\lib\\site-packages (from mlxtend) (1.1.0)\n",
      "Requirement already satisfied: packaging>=20.0 in c:\\users\\hp\\anaconda3\\envs\\dab200\\lib\\site-packages (from matplotlib>=3.0.0->mlxtend) (21.3)\n",
      "Requirement already satisfied: fonttools>=4.22.0 in c:\\users\\hp\\anaconda3\\envs\\dab200\\lib\\site-packages (from matplotlib>=3.0.0->mlxtend) (4.25.0)\n",
      "Requirement already satisfied: pyparsing>=2.2.1 in c:\\users\\hp\\anaconda3\\envs\\dab200\\lib\\site-packages (from matplotlib>=3.0.0->mlxtend) (3.0.4)\n",
      "Requirement already satisfied: cycler>=0.10 in c:\\users\\hp\\anaconda3\\envs\\dab200\\lib\\site-packages (from matplotlib>=3.0.0->mlxtend) (0.11.0)\n",
      "Requirement already satisfied: pillow>=6.2.0 in c:\\users\\hp\\anaconda3\\envs\\dab200\\lib\\site-packages (from matplotlib>=3.0.0->mlxtend) (9.0.1)\n",
      "Requirement already satisfied: python-dateutil>=2.7 in c:\\users\\hp\\anaconda3\\envs\\dab200\\lib\\site-packages (from matplotlib>=3.0.0->mlxtend) (2.8.2)\n",
      "Requirement already satisfied: kiwisolver>=1.0.1 in c:\\users\\hp\\anaconda3\\envs\\dab200\\lib\\site-packages (from matplotlib>=3.0.0->mlxtend) (1.3.2)\n",
      "Requirement already satisfied: pytz>=2017.3 in c:\\users\\hp\\anaconda3\\envs\\dab200\\lib\\site-packages (from pandas>=0.24.2->mlxtend) (2021.3)\n",
      "Requirement already satisfied: six>=1.5 in c:\\users\\hp\\anaconda3\\envs\\dab200\\lib\\site-packages (from python-dateutil>=2.7->matplotlib>=3.0.0->mlxtend) (1.16.0)\n",
      "Requirement already satisfied: threadpoolctl>=2.0.0 in c:\\users\\hp\\anaconda3\\envs\\dab200\\lib\\site-packages (from scikit-learn>=0.20.3->mlxtend) (2.2.0)\n",
      "Installing collected packages: mlxtend\n",
      "Successfully installed mlxtend-0.19.0\n"
     ]
    }
   ],
   "source": [
    "!pip install mlxtend"
   ]
  },
  {
   "cell_type": "markdown",
   "id": "020b3867",
   "metadata": {},
   "source": [
    "### Importing all the necessary libraries."
   ]
  },
  {
   "cell_type": "code",
   "execution_count": 81,
   "id": "25bf861c",
   "metadata": {},
   "outputs": [],
   "source": [
    "import numpy as np\n",
    "import pandas as pd\n",
    "from sklearn.linear_model import LinearRegression\n",
    "from sklearn.metrics import confusion_matrix\n",
    "from mlxtend.feature_selection import SequentialFeatureSelector as SFS\n",
    "from mlxtend.plotting import plot_sequential_feature_selection as plot_sfs\n",
    "import matplotlib.pyplot as plt\n",
    "from sklearn.metrics import make_scorer, accuracy_score, precision_score, recall_score, f1_score, roc_auc_score\n",
    "import seaborn as sns"
   ]
  },
  {
   "cell_type": "code",
   "execution_count": 31,
   "id": "f501135e",
   "metadata": {},
   "outputs": [],
   "source": [
    "from sklearn.tree import DecisionTreeClassifier\n",
    "from sklearn.ensemble import RandomForestClassifier\n",
    "from sklearn.naive_bayes import GaussianNB\n",
    "from sklearn.discriminant_analysis import LinearDiscriminantAnalysis\n",
    "from sklearn.discriminant_analysis import QuadraticDiscriminantAnalysis\n",
    "from sklearn.neighbors import KNeighborsClassifier"
   ]
  },
  {
   "cell_type": "markdown",
   "id": "6756a264",
   "metadata": {},
   "source": [
    "### Loading data into data dataframe."
   ]
  },
  {
   "cell_type": "code",
   "execution_count": 32,
   "id": "b34b6725",
   "metadata": {},
   "outputs": [
    {
     "data": {
      "text/html": [
       "<div>\n",
       "<style scoped>\n",
       "    .dataframe tbody tr th:only-of-type {\n",
       "        vertical-align: middle;\n",
       "    }\n",
       "\n",
       "    .dataframe tbody tr th {\n",
       "        vertical-align: top;\n",
       "    }\n",
       "\n",
       "    .dataframe thead th {\n",
       "        text-align: right;\n",
       "    }\n",
       "</style>\n",
       "<table border=\"1\" class=\"dataframe\">\n",
       "  <thead>\n",
       "    <tr style=\"text-align: right;\">\n",
       "      <th></th>\n",
       "      <th>gender</th>\n",
       "      <th>age</th>\n",
       "      <th>hypertension</th>\n",
       "      <th>heart_disease</th>\n",
       "      <th>ever_married</th>\n",
       "      <th>work_type</th>\n",
       "      <th>Residence_type</th>\n",
       "      <th>avg_glucose_level</th>\n",
       "      <th>bmi</th>\n",
       "      <th>smoking_status</th>\n",
       "      <th>stroke</th>\n",
       "    </tr>\n",
       "  </thead>\n",
       "  <tbody>\n",
       "    <tr>\n",
       "      <th>0</th>\n",
       "      <td>Male</td>\n",
       "      <td>67.0</td>\n",
       "      <td>0</td>\n",
       "      <td>1</td>\n",
       "      <td>Yes</td>\n",
       "      <td>Private</td>\n",
       "      <td>Urban</td>\n",
       "      <td>228.69</td>\n",
       "      <td>36.6</td>\n",
       "      <td>formerly smoked</td>\n",
       "      <td>1</td>\n",
       "    </tr>\n",
       "    <tr>\n",
       "      <th>1</th>\n",
       "      <td>Male</td>\n",
       "      <td>80.0</td>\n",
       "      <td>0</td>\n",
       "      <td>1</td>\n",
       "      <td>Yes</td>\n",
       "      <td>Private</td>\n",
       "      <td>Rural</td>\n",
       "      <td>105.92</td>\n",
       "      <td>32.5</td>\n",
       "      <td>never smoked</td>\n",
       "      <td>1</td>\n",
       "    </tr>\n",
       "    <tr>\n",
       "      <th>2</th>\n",
       "      <td>Female</td>\n",
       "      <td>49.0</td>\n",
       "      <td>0</td>\n",
       "      <td>0</td>\n",
       "      <td>Yes</td>\n",
       "      <td>Private</td>\n",
       "      <td>Urban</td>\n",
       "      <td>171.23</td>\n",
       "      <td>34.4</td>\n",
       "      <td>smokes</td>\n",
       "      <td>1</td>\n",
       "    </tr>\n",
       "    <tr>\n",
       "      <th>3</th>\n",
       "      <td>Female</td>\n",
       "      <td>79.0</td>\n",
       "      <td>1</td>\n",
       "      <td>0</td>\n",
       "      <td>Yes</td>\n",
       "      <td>Self-employed</td>\n",
       "      <td>Rural</td>\n",
       "      <td>174.12</td>\n",
       "      <td>24.0</td>\n",
       "      <td>never smoked</td>\n",
       "      <td>1</td>\n",
       "    </tr>\n",
       "    <tr>\n",
       "      <th>4</th>\n",
       "      <td>Male</td>\n",
       "      <td>81.0</td>\n",
       "      <td>0</td>\n",
       "      <td>0</td>\n",
       "      <td>Yes</td>\n",
       "      <td>Private</td>\n",
       "      <td>Urban</td>\n",
       "      <td>186.21</td>\n",
       "      <td>29.0</td>\n",
       "      <td>formerly smoked</td>\n",
       "      <td>1</td>\n",
       "    </tr>\n",
       "    <tr>\n",
       "      <th>...</th>\n",
       "      <td>...</td>\n",
       "      <td>...</td>\n",
       "      <td>...</td>\n",
       "      <td>...</td>\n",
       "      <td>...</td>\n",
       "      <td>...</td>\n",
       "      <td>...</td>\n",
       "      <td>...</td>\n",
       "      <td>...</td>\n",
       "      <td>...</td>\n",
       "      <td>...</td>\n",
       "    </tr>\n",
       "    <tr>\n",
       "      <th>4976</th>\n",
       "      <td>Male</td>\n",
       "      <td>41.0</td>\n",
       "      <td>0</td>\n",
       "      <td>0</td>\n",
       "      <td>No</td>\n",
       "      <td>Private</td>\n",
       "      <td>Rural</td>\n",
       "      <td>70.15</td>\n",
       "      <td>29.8</td>\n",
       "      <td>formerly smoked</td>\n",
       "      <td>0</td>\n",
       "    </tr>\n",
       "    <tr>\n",
       "      <th>4977</th>\n",
       "      <td>Male</td>\n",
       "      <td>40.0</td>\n",
       "      <td>0</td>\n",
       "      <td>0</td>\n",
       "      <td>Yes</td>\n",
       "      <td>Private</td>\n",
       "      <td>Urban</td>\n",
       "      <td>191.15</td>\n",
       "      <td>31.1</td>\n",
       "      <td>smokes</td>\n",
       "      <td>0</td>\n",
       "    </tr>\n",
       "    <tr>\n",
       "      <th>4978</th>\n",
       "      <td>Female</td>\n",
       "      <td>45.0</td>\n",
       "      <td>1</td>\n",
       "      <td>0</td>\n",
       "      <td>Yes</td>\n",
       "      <td>Govt_job</td>\n",
       "      <td>Rural</td>\n",
       "      <td>95.02</td>\n",
       "      <td>31.8</td>\n",
       "      <td>smokes</td>\n",
       "      <td>0</td>\n",
       "    </tr>\n",
       "    <tr>\n",
       "      <th>4979</th>\n",
       "      <td>Male</td>\n",
       "      <td>40.0</td>\n",
       "      <td>0</td>\n",
       "      <td>0</td>\n",
       "      <td>Yes</td>\n",
       "      <td>Private</td>\n",
       "      <td>Rural</td>\n",
       "      <td>83.94</td>\n",
       "      <td>30.0</td>\n",
       "      <td>smokes</td>\n",
       "      <td>0</td>\n",
       "    </tr>\n",
       "    <tr>\n",
       "      <th>4980</th>\n",
       "      <td>Female</td>\n",
       "      <td>80.0</td>\n",
       "      <td>1</td>\n",
       "      <td>0</td>\n",
       "      <td>Yes</td>\n",
       "      <td>Private</td>\n",
       "      <td>Urban</td>\n",
       "      <td>83.75</td>\n",
       "      <td>29.1</td>\n",
       "      <td>never smoked</td>\n",
       "      <td>0</td>\n",
       "    </tr>\n",
       "  </tbody>\n",
       "</table>\n",
       "<p>4981 rows × 11 columns</p>\n",
       "</div>"
      ],
      "text/plain": [
       "      gender   age  hypertension  heart_disease ever_married      work_type  \\\n",
       "0       Male  67.0             0              1          Yes        Private   \n",
       "1       Male  80.0             0              1          Yes        Private   \n",
       "2     Female  49.0             0              0          Yes        Private   \n",
       "3     Female  79.0             1              0          Yes  Self-employed   \n",
       "4       Male  81.0             0              0          Yes        Private   \n",
       "...      ...   ...           ...            ...          ...            ...   \n",
       "4976    Male  41.0             0              0           No        Private   \n",
       "4977    Male  40.0             0              0          Yes        Private   \n",
       "4978  Female  45.0             1              0          Yes       Govt_job   \n",
       "4979    Male  40.0             0              0          Yes        Private   \n",
       "4980  Female  80.0             1              0          Yes        Private   \n",
       "\n",
       "     Residence_type  avg_glucose_level   bmi   smoking_status  stroke  \n",
       "0             Urban             228.69  36.6  formerly smoked       1  \n",
       "1             Rural             105.92  32.5     never smoked       1  \n",
       "2             Urban             171.23  34.4           smokes       1  \n",
       "3             Rural             174.12  24.0     never smoked       1  \n",
       "4             Urban             186.21  29.0  formerly smoked       1  \n",
       "...             ...                ...   ...              ...     ...  \n",
       "4976          Rural              70.15  29.8  formerly smoked       0  \n",
       "4977          Urban             191.15  31.1           smokes       0  \n",
       "4978          Rural              95.02  31.8           smokes       0  \n",
       "4979          Rural              83.94  30.0           smokes       0  \n",
       "4980          Urban              83.75  29.1     never smoked       0  \n",
       "\n",
       "[4981 rows x 11 columns]"
      ]
     },
     "execution_count": 32,
     "metadata": {},
     "output_type": "execute_result"
    }
   ],
   "source": [
    "#Loading data into the datafrane and checking it over the top.\n",
    "\n",
    "data = pd.read_csv('brain_stroke.csv')\n",
    "data"
   ]
  },
  {
   "cell_type": "markdown",
   "id": "c41beab6",
   "metadata": {},
   "source": [
    "# Data-Preprocessing."
   ]
  },
  {
   "cell_type": "code",
   "execution_count": 33,
   "id": "11ac1e0c",
   "metadata": {},
   "outputs": [],
   "source": [
    "data['gender'] = data['gender'].replace({'Male':1,'Female':0})"
   ]
  },
  {
   "cell_type": "code",
   "execution_count": 40,
   "id": "71d88304",
   "metadata": {},
   "outputs": [],
   "source": [
    "data['ever_married'] = data['ever_married'].replace({'Yes':1,'No':0})"
   ]
  },
  {
   "cell_type": "code",
   "execution_count": 60,
   "id": "a7051544",
   "metadata": {},
   "outputs": [],
   "source": [
    "data['work_type'] = data['work_type'].replace({'Private':1,'Govt_job':0,'Self-employed':2,'children':3})"
   ]
  },
  {
   "cell_type": "code",
   "execution_count": 61,
   "id": "6036612b",
   "metadata": {},
   "outputs": [],
   "source": [
    "data['Residence_type'] = data['Residence_type'].replace({'Urban':1,'Rural':0})"
   ]
  },
  {
   "cell_type": "code",
   "execution_count": 63,
   "id": "80635be4",
   "metadata": {},
   "outputs": [],
   "source": [
    "data['smoking_status'] = data['smoking_status'].replace({'formerly smoked':0,'never smoked':1,'smokes':2,'Unknown':3})"
   ]
  },
  {
   "cell_type": "code",
   "execution_count": 64,
   "id": "4cdaa7e0",
   "metadata": {},
   "outputs": [
    {
     "name": "stdout",
     "output_type": "stream",
     "text": [
      "<class 'pandas.core.frame.DataFrame'>\n",
      "RangeIndex: 4981 entries, 0 to 4980\n",
      "Data columns (total 11 columns):\n",
      " #   Column             Non-Null Count  Dtype  \n",
      "---  ------             --------------  -----  \n",
      " 0   gender             4981 non-null   float64\n",
      " 1   age                4981 non-null   float64\n",
      " 2   hypertension       4981 non-null   int64  \n",
      " 3   heart_disease      4981 non-null   int64  \n",
      " 4   ever_married       4981 non-null   int64  \n",
      " 5   work_type          4981 non-null   int64  \n",
      " 6   Residence_type     4981 non-null   int64  \n",
      " 7   avg_glucose_level  4981 non-null   float64\n",
      " 8   bmi                4981 non-null   float64\n",
      " 9   smoking_status     4981 non-null   int64  \n",
      " 10  stroke             4981 non-null   int64  \n",
      "dtypes: float64(4), int64(7)\n",
      "memory usage: 428.2 KB\n"
     ]
    }
   ],
   "source": [
    "data.info()"
   ]
  },
  {
   "cell_type": "markdown",
   "id": "ac4b90fd",
   "metadata": {},
   "source": [
    "# Data Cleaning."
   ]
  },
  {
   "cell_type": "code",
   "execution_count": 69,
   "id": "ecf50eef",
   "metadata": {},
   "outputs": [
    {
     "data": {
      "text/html": [
       "<div>\n",
       "<style scoped>\n",
       "    .dataframe tbody tr th:only-of-type {\n",
       "        vertical-align: middle;\n",
       "    }\n",
       "\n",
       "    .dataframe tbody tr th {\n",
       "        vertical-align: top;\n",
       "    }\n",
       "\n",
       "    .dataframe thead th {\n",
       "        text-align: right;\n",
       "    }\n",
       "</style>\n",
       "<table border=\"1\" class=\"dataframe\">\n",
       "  <thead>\n",
       "    <tr style=\"text-align: right;\">\n",
       "      <th></th>\n",
       "      <th>gender</th>\n",
       "      <th>age</th>\n",
       "      <th>hypertension</th>\n",
       "      <th>heart_disease</th>\n",
       "      <th>ever_married</th>\n",
       "      <th>work_type</th>\n",
       "      <th>Residence_type</th>\n",
       "      <th>avg_glucose_level</th>\n",
       "      <th>bmi</th>\n",
       "      <th>smoking_status</th>\n",
       "      <th>stroke</th>\n",
       "    </tr>\n",
       "  </thead>\n",
       "  <tbody>\n",
       "    <tr>\n",
       "      <th>0</th>\n",
       "      <td>False</td>\n",
       "      <td>False</td>\n",
       "      <td>False</td>\n",
       "      <td>False</td>\n",
       "      <td>False</td>\n",
       "      <td>False</td>\n",
       "      <td>False</td>\n",
       "      <td>False</td>\n",
       "      <td>False</td>\n",
       "      <td>False</td>\n",
       "      <td>False</td>\n",
       "    </tr>\n",
       "    <tr>\n",
       "      <th>1</th>\n",
       "      <td>False</td>\n",
       "      <td>False</td>\n",
       "      <td>False</td>\n",
       "      <td>False</td>\n",
       "      <td>False</td>\n",
       "      <td>False</td>\n",
       "      <td>False</td>\n",
       "      <td>False</td>\n",
       "      <td>False</td>\n",
       "      <td>False</td>\n",
       "      <td>False</td>\n",
       "    </tr>\n",
       "    <tr>\n",
       "      <th>2</th>\n",
       "      <td>False</td>\n",
       "      <td>False</td>\n",
       "      <td>False</td>\n",
       "      <td>False</td>\n",
       "      <td>False</td>\n",
       "      <td>False</td>\n",
       "      <td>False</td>\n",
       "      <td>False</td>\n",
       "      <td>False</td>\n",
       "      <td>False</td>\n",
       "      <td>False</td>\n",
       "    </tr>\n",
       "    <tr>\n",
       "      <th>3</th>\n",
       "      <td>False</td>\n",
       "      <td>False</td>\n",
       "      <td>False</td>\n",
       "      <td>False</td>\n",
       "      <td>False</td>\n",
       "      <td>False</td>\n",
       "      <td>False</td>\n",
       "      <td>False</td>\n",
       "      <td>False</td>\n",
       "      <td>False</td>\n",
       "      <td>False</td>\n",
       "    </tr>\n",
       "    <tr>\n",
       "      <th>4</th>\n",
       "      <td>False</td>\n",
       "      <td>False</td>\n",
       "      <td>False</td>\n",
       "      <td>False</td>\n",
       "      <td>False</td>\n",
       "      <td>False</td>\n",
       "      <td>False</td>\n",
       "      <td>False</td>\n",
       "      <td>False</td>\n",
       "      <td>False</td>\n",
       "      <td>False</td>\n",
       "    </tr>\n",
       "    <tr>\n",
       "      <th>...</th>\n",
       "      <td>...</td>\n",
       "      <td>...</td>\n",
       "      <td>...</td>\n",
       "      <td>...</td>\n",
       "      <td>...</td>\n",
       "      <td>...</td>\n",
       "      <td>...</td>\n",
       "      <td>...</td>\n",
       "      <td>...</td>\n",
       "      <td>...</td>\n",
       "      <td>...</td>\n",
       "    </tr>\n",
       "    <tr>\n",
       "      <th>4976</th>\n",
       "      <td>False</td>\n",
       "      <td>False</td>\n",
       "      <td>False</td>\n",
       "      <td>False</td>\n",
       "      <td>False</td>\n",
       "      <td>False</td>\n",
       "      <td>False</td>\n",
       "      <td>False</td>\n",
       "      <td>False</td>\n",
       "      <td>False</td>\n",
       "      <td>False</td>\n",
       "    </tr>\n",
       "    <tr>\n",
       "      <th>4977</th>\n",
       "      <td>False</td>\n",
       "      <td>False</td>\n",
       "      <td>False</td>\n",
       "      <td>False</td>\n",
       "      <td>False</td>\n",
       "      <td>False</td>\n",
       "      <td>False</td>\n",
       "      <td>False</td>\n",
       "      <td>False</td>\n",
       "      <td>False</td>\n",
       "      <td>False</td>\n",
       "    </tr>\n",
       "    <tr>\n",
       "      <th>4978</th>\n",
       "      <td>False</td>\n",
       "      <td>False</td>\n",
       "      <td>False</td>\n",
       "      <td>False</td>\n",
       "      <td>False</td>\n",
       "      <td>False</td>\n",
       "      <td>False</td>\n",
       "      <td>False</td>\n",
       "      <td>False</td>\n",
       "      <td>False</td>\n",
       "      <td>False</td>\n",
       "    </tr>\n",
       "    <tr>\n",
       "      <th>4979</th>\n",
       "      <td>False</td>\n",
       "      <td>False</td>\n",
       "      <td>False</td>\n",
       "      <td>False</td>\n",
       "      <td>False</td>\n",
       "      <td>False</td>\n",
       "      <td>False</td>\n",
       "      <td>False</td>\n",
       "      <td>False</td>\n",
       "      <td>False</td>\n",
       "      <td>False</td>\n",
       "    </tr>\n",
       "    <tr>\n",
       "      <th>4980</th>\n",
       "      <td>False</td>\n",
       "      <td>False</td>\n",
       "      <td>False</td>\n",
       "      <td>False</td>\n",
       "      <td>False</td>\n",
       "      <td>False</td>\n",
       "      <td>False</td>\n",
       "      <td>False</td>\n",
       "      <td>False</td>\n",
       "      <td>False</td>\n",
       "      <td>False</td>\n",
       "    </tr>\n",
       "  </tbody>\n",
       "</table>\n",
       "<p>4981 rows × 11 columns</p>\n",
       "</div>"
      ],
      "text/plain": [
       "      gender    age  hypertension  heart_disease  ever_married  work_type  \\\n",
       "0      False  False         False          False         False      False   \n",
       "1      False  False         False          False         False      False   \n",
       "2      False  False         False          False         False      False   \n",
       "3      False  False         False          False         False      False   \n",
       "4      False  False         False          False         False      False   \n",
       "...      ...    ...           ...            ...           ...        ...   \n",
       "4976   False  False         False          False         False      False   \n",
       "4977   False  False         False          False         False      False   \n",
       "4978   False  False         False          False         False      False   \n",
       "4979   False  False         False          False         False      False   \n",
       "4980   False  False         False          False         False      False   \n",
       "\n",
       "      Residence_type  avg_glucose_level    bmi  smoking_status  stroke  \n",
       "0              False              False  False           False   False  \n",
       "1              False              False  False           False   False  \n",
       "2              False              False  False           False   False  \n",
       "3              False              False  False           False   False  \n",
       "4              False              False  False           False   False  \n",
       "...              ...                ...    ...             ...     ...  \n",
       "4976           False              False  False           False   False  \n",
       "4977           False              False  False           False   False  \n",
       "4978           False              False  False           False   False  \n",
       "4979           False              False  False           False   False  \n",
       "4980           False              False  False           False   False  \n",
       "\n",
       "[4981 rows x 11 columns]"
      ]
     },
     "execution_count": 69,
     "metadata": {},
     "output_type": "execute_result"
    }
   ],
   "source": [
    "data.isnull()"
   ]
  },
  {
   "cell_type": "code",
   "execution_count": 70,
   "id": "0afe6d8d",
   "metadata": {},
   "outputs": [
    {
     "data": {
      "text/plain": [
       "gender               0\n",
       "age                  0\n",
       "hypertension         0\n",
       "heart_disease        0\n",
       "ever_married         0\n",
       "work_type            0\n",
       "Residence_type       0\n",
       "avg_glucose_level    0\n",
       "bmi                  0\n",
       "smoking_status       0\n",
       "stroke               0\n",
       "dtype: int64"
      ]
     },
     "execution_count": 70,
     "metadata": {},
     "output_type": "execute_result"
    }
   ],
   "source": [
    "data.isnull().sum()"
   ]
  },
  {
   "cell_type": "markdown",
   "id": "3c80e98c",
   "metadata": {},
   "source": [
    "# Exploratory Data Analysis to determine causes of stroke using different Machine learning Models."
   ]
  },
  {
   "cell_type": "markdown",
   "id": "dfc3f6f9",
   "metadata": {},
   "source": [
    "### Identifying Target Data."
   ]
  },
  {
   "cell_type": "code",
   "execution_count": 65,
   "id": "48179fc0",
   "metadata": {},
   "outputs": [],
   "source": [
    "# Independent Variables\n",
    "X = data.drop(['stroke'], axis = 1)\n",
    "y = data['stroke']\n",
    "X = np.array(X)\n",
    "y = np.array(y)"
   ]
  },
  {
   "cell_type": "markdown",
   "id": "4152df83",
   "metadata": {},
   "source": [
    "### Splitting data into Training  and Testing data."
   ]
  },
  {
   "cell_type": "code",
   "execution_count": 66,
   "id": "a3e95c52",
   "metadata": {},
   "outputs": [],
   "source": [
    "from sklearn.model_selection import train_test_split\n",
    "# Let us split our dataset into test and train groups with  8:2 ratio.\n",
    "X_train, X_test, y_train, y_test = train_test_split(X, y, \n",
    "                                                    test_size = 0.2,\n",
    "                                                    random_state = 10)"
   ]
  },
  {
   "cell_type": "markdown",
   "id": "8c40a16c",
   "metadata": {},
   "source": [
    "### Creating an Array for all the required models."
   ]
  },
  {
   "cell_type": "code",
   "execution_count": 67,
   "id": "9d1e4c66",
   "metadata": {},
   "outputs": [],
   "source": [
    "knn_model = KNeighborsClassifier(n_neighbors=3)\n",
    "dt_model = DecisionTreeClassifier()\n",
    "rf_model = RandomForestClassifier()\n",
    "nb_model = GaussianNB()\n",
    "lda_model = LinearDiscriminantAnalysis()\n",
    "qda_model = LinearDiscriminantAnalysis()"
   ]
  },
  {
   "cell_type": "markdown",
   "id": "80a96e78",
   "metadata": {},
   "source": [
    "### Calculating Accuracy, Precision Score, Recall Score and F1 Score of all the features by using KNN Model."
   ]
  },
  {
   "cell_type": "code",
   "execution_count": 78,
   "id": "c38b7aba",
   "metadata": {},
   "outputs": [
    {
     "name": "stdout",
     "output_type": "stream",
     "text": [
      "Accuracy of the KNN model: 0.9546275848223248\n",
      "Precision Score of the KNN model: 0.6195652173913043\n",
      "Recall Score of the KNN model: 0.22983870967741934\n",
      "F1 Score of the KNN model: 0.33529411764705874\n"
     ]
    }
   ],
   "source": [
    "knn_model.fit(X_train,y_train)\n",
    "y_pred_knn = knn_model.predict(X)\n",
    "y_true = y\n",
    "cf_matrix = confusion_matrix(y_true, y_pred_knn)\n",
    "print(\"Accuracy of the KNN model:\",accuracy_score(y_true, y_pred_knn))\n",
    "print(\"Precision Score of the KNN model:\",precision_score(y_true, y_pred_knn))\n",
    "print(\"Recall Score of the KNN model:\",recall_score(y_true, y_pred_knn))\n",
    "print(\"F1 Score of the KNN model:\",f1_score(y_true, y_pred_knn))"
   ]
  },
  {
   "cell_type": "markdown",
   "id": "8ac2a4a3",
   "metadata": {},
   "source": [
    "### Building Confusion Matrix."
   ]
  },
  {
   "cell_type": "code",
   "execution_count": 82,
   "id": "3baa1e75",
   "metadata": {},
   "outputs": [
    {
     "name": "stdout",
     "output_type": "stream",
     "text": [
      "Test Data Accuracy: 0.9546\n"
     ]
    },
    {
     "data": {
      "image/png": "[encoded data removed]",
      "text/plain": [
       "<Figure size 720x504 with 2 Axes>"
      ]
     },
     "metadata": {
      "needs_background": "light"
     },
     "output_type": "display_data"
    }
   ],
   "source": [
    "df_cm = pd.DataFrame(cf_matrix, index = (0, 1), columns = (0, 1))\n",
    "plt.figure(figsize = (10, 7))\n",
    "sns.heatmap(df_cm, annot = True, fmt ='g')\n",
    "print(\"Test Data Accuracy: %.4f\" %accuracy_score(y_true, y_pred_knn))"
   ]
  },
  {
   "cell_type": "markdown",
   "id": "c1f02073",
   "metadata": {},
   "source": [
    "### Calculating Accuracy, Precision Score, Recall Score and F1 Score of all the features by using DecisionTree Model."
   ]
  },
  {
   "cell_type": "code",
   "execution_count": 86,
   "id": "817ee69f",
   "metadata": {},
   "outputs": [
    {
     "name": "stdout",
     "output_type": "stream",
     "text": [
      "Accuracy of the DecisionTree model: 0.983135916482634\n",
      "Precision Score of the DecisionTree model: 0.8306451612903226\n",
      "Recall Score of the DecisionTree model: 0.8306451612903226\n",
      "F1 Score of the DecisionTree model: 0.8306451612903226\n"
     ]
    }
   ],
   "source": [
    "dt_model.fit(X_train,y_train)\n",
    "y_pred_dt = dt_model.predict(X)\n",
    "y_true = y\n",
    "cf_matrix = confusion_matrix(y_true, y_pred_dt)\n",
    "print(\"Accuracy of the DecisionTree model:\",accuracy_score(y_true, y_pred_dt))\n",
    "print(\"Precision Score of the DecisionTree model:\",precision_score(y_true, y_pred_dt))\n",
    "print(\"Recall Score of the DecisionTree model:\",recall_score(y_true, y_pred_dt))\n",
    "print(\"F1 Score of the DecisionTree model:\",f1_score(y_true, y_pred_dt))"
   ]
  },
  {
   "cell_type": "markdown",
   "id": "eed7c96d",
   "metadata": {},
   "source": [
    "### Building Confusion Matrix."
   ]
  },
  {
   "cell_type": "code",
   "execution_count": 84,
   "id": "e2fb110a",
   "metadata": {},
   "outputs": [
    {
     "name": "stdout",
     "output_type": "stream",
     "text": [
      "Test Data Accuracy: 0.9825\n"
     ]
    },
    {
     "data": {
      "image/png": "[encoded data removed]",
      "text/plain": [
       "<Figure size 720x504 with 2 Axes>"
      ]
     },
     "metadata": {
      "needs_background": "light"
     },
     "output_type": "display_data"
    }
   ],
   "source": [
    "df_cm = pd.DataFrame(cf_matrix, index = (0, 1), columns = (0, 1))\n",
    "plt.figure(figsize = (10, 7))\n",
    "sns.heatmap(df_cm, annot = True, fmt ='g')\n",
    "print(\"Test Data Accuracy: %.4f\" %accuracy_score(y_true, y_pred_dt))"
   ]
  },
  {
   "cell_type": "markdown",
   "id": "b421804c",
   "metadata": {},
   "source": [
    "### Calculating Accuracy, Precision Score, Recall Score and F1 Score of all the features by using RandomForest Model."
   ]
  },
  {
   "cell_type": "code",
   "execution_count": 85,
   "id": "d27f1e8d",
   "metadata": {},
   "outputs": [
    {
     "name": "stdout",
     "output_type": "stream",
     "text": [
      "Accuracy of the RandomForest model: 0.9897610921501706\n",
      "Precision Score of the RandomForest model: 0.9900497512437811\n",
      "Recall Score of the RandomForest model: 0.8024193548387096\n",
      "F1 Score of the RandomForest model: 0.88641425389755\n"
     ]
    }
   ],
   "source": [
    "rf_model.fit(X_train,y_train)\n",
    "y_pred_rf = rf_model.predict(X)\n",
    "y_true = y\n",
    "cf_matrix = confusion_matrix(y_true, y_pred_rf)\n",
    "print(\"Accuracy of the RandomForest model:\",accuracy_score(y_true, y_pred_rf))\n",
    "print(\"Precision Score of the RandomForest model:\",precision_score(y_true, y_pred_rf))\n",
    "print(\"Recall Score of the RandomForest model:\",recall_score(y_true, y_pred_rf))\n",
    "print(\"F1 Score of the RandomForest model:\",f1_score(y_true, y_pred_rf))"
   ]
  },
  {
   "cell_type": "markdown",
   "id": "31c75a10",
   "metadata": {},
   "source": [
    "### Building Confusion Matrix."
   ]
  },
  {
   "cell_type": "code",
   "execution_count": 87,
   "id": "7731c706",
   "metadata": {},
   "outputs": [
    {
     "name": "stdout",
     "output_type": "stream",
     "text": [
      "Test Data Accuracy: 0.9898\n"
     ]
    },
    {
     "data": {
      "image/png": "[encoded data removed]",
      "text/plain": [
       "<Figure size 720x504 with 2 Axes>"
      ]
     },
     "metadata": {
      "needs_background": "light"
     },
     "output_type": "display_data"
    }
   ],
   "source": [
    "df_cm = pd.DataFrame(cf_matrix, index = (0, 1), columns = (0, 1))\n",
    "plt.figure(figsize = (10, 7))\n",
    "sns.heatmap(df_cm, annot = True, fmt ='g')\n",
    "print(\"Test Data Accuracy: %.4f\" %accuracy_score(y_true, y_pred_rf))"
   ]
  },
  {
   "cell_type": "markdown",
   "id": "fc7c9c07",
   "metadata": {},
   "source": [
    "### Calculating Accuracy, Precision Score, Recall Score and F1 Score of all the features by using NaiveBayes Model."
   ]
  },
  {
   "cell_type": "code",
   "execution_count": 88,
   "id": "26d4e531",
   "metadata": {},
   "outputs": [
    {
     "name": "stdout",
     "output_type": "stream",
     "text": [
      "Accuracy of the NaiveBayes model: 0.8612728367797631\n",
      "Precision Score of the NaiveBayes model: 0.1597542242703533\n",
      "Recall Score of the NaiveBayes model: 0.41935483870967744\n",
      "F1 Score of the NaiveBayes model: 0.2313681868743048\n"
     ]
    }
   ],
   "source": [
    "nb_model.fit(X_train,y_train)\n",
    "y_pred_nb = nb_model.predict(X)\n",
    "y_true = y\n",
    "cf_matrix = confusion_matrix(y_true, y_pred_nb)\n",
    "print(\"Accuracy of the NaiveBayes model:\",accuracy_score(y_true, y_pred_nb))\n",
    "print(\"Precision Score of the NaiveBayes model:\",precision_score(y_true, y_pred_nb))\n",
    "print(\"Recall Score of the NaiveBayes model:\",recall_score(y_true, y_pred_nb))\n",
    "print(\"F1 Score of the NaiveBayes model:\",f1_score(y_true, y_pred_nb))"
   ]
  },
  {
   "cell_type": "markdown",
   "id": "191bfd0b",
   "metadata": {},
   "source": [
    "### Building Confusion Matrix."
   ]
  },
  {
   "cell_type": "code",
   "execution_count": 89,
   "id": "c99c6618",
   "metadata": {},
   "outputs": [
    {
     "name": "stdout",
     "output_type": "stream",
     "text": [
      "Test Data Accuracy: 0.8613\n"
     ]
    },
    {
     "data": {
      "image/png": "[encoded data removed]",
      "text/plain": [
       "<Figure size 720x504 with 2 Axes>"
      ]
     },
     "metadata": {
      "needs_background": "light"
     },
     "output_type": "display_data"
    }
   ],
   "source": [
    "df_cm = pd.DataFrame(cf_matrix, index = (0, 1), columns = (0, 1))\n",
    "plt.figure(figsize = (10, 7))\n",
    "sns.heatmap(df_cm, annot = True, fmt ='g')\n",
    "print(\"Test Data Accuracy: %.4f\" %accuracy_score(y_true, y_pred_nb))"
   ]
  },
  {
   "cell_type": "markdown",
   "id": "c02891a1",
   "metadata": {},
   "source": [
    "### Calculating Accuracy, Precision Score, Recall Score and F1 Score of all the features by using LDA Model."
   ]
  },
  {
   "cell_type": "code",
   "execution_count": 90,
   "id": "a5ff1a32",
   "metadata": {},
   "outputs": [
    {
     "name": "stdout",
     "output_type": "stream",
     "text": [
      "Accuracy of the LDA model: 0.9457940172656093\n",
      "Precision Score of the LDA model: 0.3103448275862069\n",
      "Recall Score of the LDA model: 0.07258064516129033\n",
      "F1 Score of the LDA model: 0.11764705882352942\n"
     ]
    }
   ],
   "source": [
    "lda_model.fit(X_train,y_train)\n",
    "y_pred_lda = lda_model.predict(X)\n",
    "y_true = y\n",
    "cf_matrix = confusion_matrix(y_true, y_pred_lda)\n",
    "print(\"Accuracy of the LDA model:\",accuracy_score(y_true, y_pred_lda))\n",
    "print(\"Precision Score of the LDA model:\",precision_score(y_true, y_pred_lda))\n",
    "print(\"Recall Score of the LDA model:\",recall_score(y_true, y_pred_lda))\n",
    "print(\"F1 Score of the LDA model:\",f1_score(y_true, y_pred_lda))"
   ]
  },
  {
   "cell_type": "markdown",
   "id": "17f1ff3e",
   "metadata": {},
   "source": [
    "### Building Confusion Matrix."
   ]
  },
  {
   "cell_type": "code",
   "execution_count": 91,
   "id": "632a83fb",
   "metadata": {},
   "outputs": [
    {
     "name": "stdout",
     "output_type": "stream",
     "text": [
      "Test Data Accuracy: 0.9458\n"
     ]
    },
    {
     "data": {
      "image/png": "[encoded data removed]",
      "text/plain": [
       "<Figure size 720x504 with 2 Axes>"
      ]
     },
     "metadata": {
      "needs_background": "light"
     },
     "output_type": "display_data"
    }
   ],
   "source": [
    "df_cm = pd.DataFrame(cf_matrix, index = (0, 1), columns = (0, 1))\n",
    "plt.figure(figsize = (10, 7))\n",
    "sns.heatmap(df_cm, annot = True, fmt ='g')\n",
    "print(\"Test Data Accuracy: %.4f\" %accuracy_score(y_true, y_pred_lda))"
   ]
  },
  {
   "cell_type": "markdown",
   "id": "376b6579",
   "metadata": {},
   "source": [
    "### Calculating Accuracy, Precision Score, Recall Score and F1 Score of all the features by using QDA Model."
   ]
  },
  {
   "cell_type": "code",
   "execution_count": 92,
   "id": "682a23fe",
   "metadata": {},
   "outputs": [
    {
     "name": "stdout",
     "output_type": "stream",
     "text": [
      "Accuracy of the QDA model: 0.9457940172656093\n",
      "Precision Score of the QDA model: 0.3103448275862069\n",
      "Recall Score of the QDA model: 0.07258064516129033\n",
      "F1 Score of the QDA model: 0.11764705882352942\n"
     ]
    }
   ],
   "source": [
    "qda_model.fit(X_train,y_train)\n",
    "y_pred_qda = qda_model.predict(X)\n",
    "y_true = y\n",
    "cf_matrix = confusion_matrix(y_true, y_pred_qda)\n",
    "print(\"Accuracy of the QDA model:\",accuracy_score(y_true, y_pred_qda))\n",
    "print(\"Precision Score of the QDA model:\",precision_score(y_true, y_pred_qda))\n",
    "print(\"Recall Score of the QDA model:\",recall_score(y_true, y_pred_qda))\n",
    "print(\"F1 Score of the QDA model:\",f1_score(y_true, y_pred_qda))"
   ]
  },
  {
   "cell_type": "markdown",
   "id": "f3750c83",
   "metadata": {},
   "source": [
    "### Building Confusion Matrix."
   ]
  },
  {
   "cell_type": "code",
   "execution_count": 93,
   "id": "656e2fed",
   "metadata": {},
   "outputs": [
    {
     "name": "stdout",
     "output_type": "stream",
     "text": [
      "Test Data Accuracy: 0.9458\n"
     ]
    },
    {
     "data": {
      "image/png": "[encoded data removed]",
      "text/plain": [
       "<Figure size 720x504 with 2 Axes>"
      ]
     },
     "metadata": {
      "needs_background": "light"
     },
     "output_type": "display_data"
    }
   ],
   "source": [
    "df_cm = pd.DataFrame(cf_matrix, index = (0, 1), columns = (0, 1))\n",
    "plt.figure(figsize = (10, 7))\n",
    "sns.heatmap(df_cm, annot = True, fmt ='g')\n",
    "print(\"Test Data Accuracy: %.4f\" %accuracy_score(y_true, y_pred_qda))"
   ]
  },
  {
   "cell_type": "markdown",
   "id": "8536a3ae",
   "metadata": {},
   "source": [
    "### Creating an Array for all the models."
   ]
  },
  {
   "cell_type": "code",
   "execution_count": 121,
   "id": "397afbc4",
   "metadata": {},
   "outputs": [],
   "source": [
    "knn_model = KNeighborsClassifier(n_neighbors=3)\n",
    "dt_model = DecisionTreeClassifier()\n",
    "rf_model = RandomForestClassifier()\n",
    "nb_model = GaussianNB()\n",
    "lda_model = LinearDiscriminantAnalysis()\n",
    "qda_model = LinearDiscriminantAnalysis()"
   ]
  },
  {
   "cell_type": "markdown",
   "id": "18c6641d",
   "metadata": {},
   "source": [
    "### Calculating the performances of the KNN model using the best features that are selected with “Sequential floating forward selection (SFFS)” feature selection method and also calculating Sensitivity, Specificity and Total Accuracy."
   ]
  },
  {
   "cell_type": "code",
   "execution_count": 128,
   "id": "a0bc54b8",
   "metadata": {},
   "outputs": [],
   "source": [
    "sffs_knn = SFS(knn_model, \n",
    "          k_features=(1,10), \n",
    "          forward=True,  # Forward\n",
    "          floating=True,  #Floating\n",
    "          scoring='accuracy',\n",
    "          cv=5)\n",
    "X_new = sffs_knn.fit_transform(X,y)\n",
    "X_train_n, X_test_n, y_train_n, y_test_n = train_test_split(X_new, y, \n",
    "                                                    test_size = 0.2,\n",
    "                                                    random_state = 10)"
   ]
  },
  {
   "cell_type": "code",
   "execution_count": 130,
   "id": "fcd1f3a3",
   "metadata": {},
   "outputs": [
    {
     "name": "stdout",
     "output_type": "stream",
     "text": [
      "Sensitivity of the SFFS_KNN model: [0.9964082  0.10080645] \n",
      " Specificity of the SFFS_KNN model: [0.10080645 0.9964082 ] \n",
      " Accuracy of the SFFS_KNN model: [0.9518169 0.9518169]\n"
     ]
    }
   ],
   "source": [
    "knn_model.fit(X_train_n,y_train)\n",
    "y_pred_knn_sffs = knn_model.predict(X_new)\n",
    "y_true = y\n",
    "cf_matrix = confusion_matrix(y_true, y_pred_knn_sffs)\n",
    "\n",
    "FP = cf_matrix.sum(axis=0) - np.diag(cf_matrix)  \n",
    "FN = cf_matrix.sum(axis=1) - np.diag(cf_matrix)\n",
    "TP = np.diag(cf_matrix)\n",
    "TN = cf_matrix.sum() - (FP + FN + TP)\n",
    "\n",
    "Sensitivity_knn_sffs = TP / (TP + FN)\n",
    "Specificity_knn_sffs = TN / (TN + FP)\n",
    "Total_Accuracy_knn_sffs = (TP + TN) / (TP + FP + FN + TN)\n",
    "print(\"Sensitivity of the SFFS_KNN model:\",Sensitivity_knn_sffs,\"\\n\",\"Specificity of the SFFS_KNN model:\",Specificity_knn_sffs,\"\\n\",\"Accuracy of the SFFS_KNN model:\",Total_Accuracy_knn_sffs)\n"
   ]
  },
  {
   "cell_type": "markdown",
   "id": "b5548e20",
   "metadata": {},
   "source": [
    "### Calculating the performances of the DecisionTree model using the best features that are selected with “Sequential floating forward selection (SFFS)” feature selection method and also calculating Sensitivity, Specificity and Total Accuracy."
   ]
  },
  {
   "cell_type": "code",
   "execution_count": 131,
   "id": "d8e9a822",
   "metadata": {},
   "outputs": [],
   "source": [
    "sffs_dt = SFS(dt_model, \n",
    "          k_features=(1,10), \n",
    "          forward=True,  # Forward\n",
    "          floating=True,  #Floating\n",
    "          scoring='accuracy',\n",
    "          cv=5)\n",
    "X_new = sffs_dt.fit_transform(X,y)\n",
    "X_train_n, X_test_n, y_train_n, y_test_n = train_test_split(X_new, y, \n",
    "                                                    test_size = 0.2,\n",
    "                                                    random_state = 10)"
   ]
  },
  {
   "cell_type": "code",
   "execution_count": 134,
   "id": "a376980f",
   "metadata": {},
   "outputs": [
    {
     "name": "stdout",
     "output_type": "stream",
     "text": [
      "Sensitivity of the SFFS_DT model: [1.         0.00806452] \n",
      " Specificity of the SFFS_DT model: [0.00806452 1.        ] \n",
      " Accuracy of the SFFS_DT model: [0.95061233 0.95061233]\n"
     ]
    }
   ],
   "source": [
    "dt_model.fit(X_train_n,y_train_n)\n",
    "y_pred_dt_sffs = dt_model.predict(X_new)\n",
    "y_true = y\n",
    "cf_matrix = confusion_matrix(y_true, y_pred_dt_sffs)\n",
    "FP = cf_matrix.sum(axis=0) - np.diag(cf_matrix)  \n",
    "FN = cf_matrix.sum(axis=1) - np.diag(cf_matrix)\n",
    "TP = np.diag(cf_matrix)\n",
    "TN = cf_matrix.sum() - (FP + FN + TP)\n",
    "\n",
    "Sensitivity_dt_sffs = TP / (TP + FN)\n",
    "Specificity_dt_sffs = TN / (TN + FP)\n",
    "Total_Accuracy_dt_sffs = (TP + TN) / (TP + FP + FN + TN)\n",
    "print(\"Sensitivity of the SFFS_DT model:\",Sensitivity_dt_sffs,\"\\n\",\"Specificity of the SFFS_DT model:\",Specificity_dt_sffs,\"\\n\",\"Accuracy of the SFFS_DT model:\",Total_Accuracy_dt_sffs)\n"
   ]
  },
  {
   "cell_type": "markdown",
   "id": "a6883ca5",
   "metadata": {},
   "source": [
    "### Calculating the performances of the RandomForest model using the best features that are selected with “Sequential floating forward selection (SFFS)” feature selection method and also calculating Sensitivity, Specificity and Total Accuracy."
   ]
  },
  {
   "cell_type": "code",
   "execution_count": 135,
   "id": "98bb80f8",
   "metadata": {},
   "outputs": [],
   "source": [
    "sffs_rf = SFS(rf_model, \n",
    "          k_features=(1,10), \n",
    "          forward=True,  # Forward\n",
    "          floating=True,  #Floating\n",
    "          scoring='accuracy',\n",
    "          cv=5)\n",
    "X_new = sffs_rf.fit_transform(X,y)\n",
    "X_train_n, X_test_n, y_train_n, y_test_n = train_test_split(X_new, y, \n",
    "                                                    test_size = 0.2,\n",
    "                                                    random_state = 10)"
   ]
  },
  {
   "cell_type": "code",
   "execution_count": 136,
   "id": "d9eea1c8",
   "metadata": {},
   "outputs": [
    {
     "name": "stdout",
     "output_type": "stream",
     "text": [
      "Sensitivity of the SFFS_RF model: [1.         0.00806452] \n",
      " Specificity of the SFFS_RF model: [0.00806452 1.        ] \n",
      " Accuracy of the SFFS_RF model: [0.95061233 0.95061233]\n"
     ]
    }
   ],
   "source": [
    "rf_model.fit(X_train_n,y_train_n)\n",
    "y_pred_rf_sffs = rf_model.predict(X_new)\n",
    "y_true = y\n",
    "cf_matrix = confusion_matrix(y_true, y_pred_rf_sffs)\n",
    "cf_matrix = confusion_matrix(y_true, y_pred_dt_sffs)\n",
    "FP = cf_matrix.sum(axis=0) - np.diag(cf_matrix)  \n",
    "FN = cf_matrix.sum(axis=1) - np.diag(cf_matrix)\n",
    "TP = np.diag(cf_matrix)\n",
    "TN = cf_matrix.sum() - (FP + FN + TP)\n",
    "\n",
    "Sensitivity_rf_sffs = TP / (TP + FN)\n",
    "Specificity_rf_sffs = TN / (TN + FP)\n",
    "Total_Accuracy_rf_sffs = (TP + TN) / (TP + FP + FN + TN)\n",
    "print(\"Sensitivity of the SFFS_RF model:\",Sensitivity_rf_sffs,\"\\n\",\"Specificity of the SFFS_RF model:\",Specificity_rf_sffs,\"\\n\",\"Accuracy of the SFFS_RF model:\",Total_Accuracy_rf_sffs)\n"
   ]
  },
  {
   "cell_type": "markdown",
   "id": "483a302c",
   "metadata": {},
   "source": [
    "### Calculating the performances of the NaiveBayes model using the best features that are selected with “Sequential floating forward selection (SFFS)” feature selection method and also calculating Sensitivity, Specificity and Total Accuracy. "
   ]
  },
  {
   "cell_type": "code",
   "execution_count": 126,
   "id": "22660e8d",
   "metadata": {},
   "outputs": [],
   "source": [
    "sffs_nb = SFS(nb_model, \n",
    "          k_features=(1,10), \n",
    "          forward=True,  # Forward\n",
    "          floating=True,  #Floating\n",
    "          scoring='accuracy',\n",
    "          cv=5)\n",
    "X_new = sffs_nb.fit_transform(X,y)\n",
    "X_train_n, X_test_n, y_train_n, y_test_n = train_test_split(X_new, y, \n",
    "                                                    test_size = 0.2,\n",
    "                                                    random_state = 10)"
   ]
  },
  {
   "cell_type": "code",
   "execution_count": 137,
   "id": "2a1e0ae0",
   "metadata": {},
   "outputs": [
    {
     "name": "stdout",
     "output_type": "stream",
     "text": [
      "Sensitivity of the SFFS_NB model: [0.95182759 0.18951613] \n",
      " Specificity of the SFFS_NB model: [0.18951613 0.95182759] \n",
      " Accuracy of the SFFS_NB model: [0.91387272 0.91387272]\n"
     ]
    }
   ],
   "source": [
    "nb_model.fit(X_train_n,y_train_n)\n",
    "y_pred_nb_sffs = nb_model.predict(X_new)\n",
    "y_true = y\n",
    "cf_matrix = confusion_matrix(y_true, y_pred_nb_sffs)\n",
    "FP = cf_matrix.sum(axis=0) - np.diag(cf_matrix)  \n",
    "FN = cf_matrix.sum(axis=1) - np.diag(cf_matrix)\n",
    "TP = np.diag(cf_matrix)\n",
    "TN = cf_matrix.sum() - (FP + FN + TP)\n",
    "\n",
    "Sensitivity_nb_sffs = TP / (TP + FN)\n",
    "Specificity_nb_sffs = TN / (TN + FP)\n",
    "Total_Accuracy_nb_sffs = (TP + TN) / (TP + FP + FN + TN)\n",
    "print(\"Sensitivity of the SFFS_NB model:\",Sensitivity_nb_sffs,\"\\n\",\"Specificity of the SFFS_NB model:\",Specificity_nb_sffs,\"\\n\",\"Accuracy of the SFFS_NB model:\",Total_Accuracy_nb_sffs)\n",
    "\n"
   ]
  },
  {
   "cell_type": "markdown",
   "id": "e8ecaa69",
   "metadata": {},
   "source": [
    "### Calculating the performances of the LDA model using the best features that are selected with “Sequential floating forward selection (SFFS)” feature selection method and also calculating Sensitivity, Specificity and Total Accuracy."
   ]
  },
  {
   "cell_type": "code",
   "execution_count": 138,
   "id": "cee8bc47",
   "metadata": {},
   "outputs": [],
   "source": [
    "sffs_lda = SFS(lda_model, \n",
    "          k_features=(1,10), \n",
    "          forward=True,  # Forward\n",
    "          floating=True,  #Floating\n",
    "          scoring='accuracy',\n",
    "          cv=5)\n",
    "X_new = sffs_lda.fit_transform(X,y)\n",
    "X_train_n, X_test_n, y_train_n, y_test_n = train_test_split(X_new, y, \n",
    "                                                    test_size = 0.2,\n",
    "                                                    random_state = 10)"
   ]
  },
  {
   "cell_type": "code",
   "execution_count": 139,
   "id": "d3f8744f",
   "metadata": {},
   "outputs": [
    {
     "name": "stdout",
     "output_type": "stream",
     "text": [
      "Sensitivity of the SFFS_LDA model: [1. 0.] \n",
      " Specificity of the SFFS_LDA model: [0. 1.] \n",
      " Accuracy of the SFFS_LDA model: [0.9502108 0.9502108]\n"
     ]
    }
   ],
   "source": [
    "lda_model.fit(X_train_n,y_train_n)\n",
    "y_pred_lda = lda_model.predict(X_new)\n",
    "y_true = y\n",
    "cf_matrix = confusion_matrix(y_true, y_pred_lda)\n",
    "\n",
    "FP = cf_matrix.sum(axis=0) - np.diag(cf_matrix)  \n",
    "FN = cf_matrix.sum(axis=1) - np.diag(cf_matrix)\n",
    "TP = np.diag(cf_matrix)\n",
    "TN = cf_matrix.sum() - (FP + FN + TP)\n",
    "\n",
    "Sensitivity_lda_sffs = TP / (TP + FN)\n",
    "Specificity_lda_sffs = TN / (TN + FP)\n",
    "Total_Accuracy_lda_sffs = (TP + TN) / (TP + FP + FN + TN)\n",
    "print(\"Sensitivity of the SFFS_LDA model:\",Sensitivity_lda_sffs,\"\\n\",\"Specificity of the SFFS_LDA model:\",Specificity_lda_sffs,\"\\n\",\"Accuracy of the SFFS_LDA model:\",Total_Accuracy_lda_sffs)"
   ]
  },
  {
   "cell_type": "markdown",
   "id": "86d0bac1",
   "metadata": {},
   "source": [
    "### Calculating the performances of the QDA model using the best features that are selected with “Sequential floating forward selection (SFFS)” feature selection method and also calculating Sensitivity, Specificity and Total Accuracy."
   ]
  },
  {
   "cell_type": "code",
   "execution_count": 140,
   "id": "916dd091",
   "metadata": {},
   "outputs": [],
   "source": [
    "sffs_qda = SFS(qda_model, \n",
    "          k_features=(1,10), \n",
    "          forward=True,  # Forward\n",
    "          floating=True,  #Floating\n",
    "          scoring='accuracy',\n",
    "          cv=5)\n",
    "X_new = sffs_qda.fit_transform(X,y)\n",
    "X_train_n, X_test_n, y_train_n, y_test_n = train_test_split(X_new, y, \n",
    "                                                    test_size = 0.2,\n",
    "                                                    random_state = 10)"
   ]
  },
  {
   "cell_type": "code",
   "execution_count": 141,
   "id": "41488994",
   "metadata": {},
   "outputs": [
    {
     "name": "stdout",
     "output_type": "stream",
     "text": [
      "Sensitivity of the SFFS_QDA model: [1. 0.] \n",
      " Specificity of the SFFS_QDA model: [0. 1.] \n",
      " Accuracy of the SFFS_QDA model: [0.9502108 0.9502108]\n"
     ]
    }
   ],
   "source": [
    "qda_model.fit(X_train_n,y_train_n)\n",
    "y_pred_qda = qda_model.predict(X_new)\n",
    "y_true = y\n",
    "cf_matrix = confusion_matrix(y_true, y_pred_qda)\n",
    "\n",
    "FP = cf_matrix.sum(axis=0) - np.diag(cf_matrix)  \n",
    "FN = cf_matrix.sum(axis=1) - np.diag(cf_matrix)\n",
    "TP = np.diag(cf_matrix)\n",
    "TN = cf_matrix.sum() - (FP + FN + TP)\n",
    "\n",
    "Sensitivity_qda_sffs = TP / (TP + FN)\n",
    "Specificity_qda_sffs = TN / (TN + FP)\n",
    "Total_Accuracy_qda_sffs = (TP + TN) / (TP + FP + FN + TN)\n",
    "print(\"Sensitivity of the SFFS_QDA model:\",Sensitivity_qda_sffs,\"\\n\",\"Specificity of the SFFS_QDA model:\",Specificity_qda_sffs,\"\\n\",\"Accuracy of the SFFS_QDA model:\",Total_Accuracy_qda_sffs)"
   ]
  },
  {
   "cell_type": "markdown",
   "id": "4d395627",
   "metadata": {},
   "source": [
    "# Conclusion: Random Forest Classifier model has the best performance among all the models using all the 11 features, Accuracy of the RandomForest model: 0.98, Precision Score of the RandomForest model: 0.99, Recall Score of the RandomForest model: 0.80, F1 Score of the RandomForest model: 0.88. It was the best performing model even after performing feature engineering."
   ]
  },
  {
   "cell_type": "code",
   "execution_count": null,
   "id": "c4f7fc0f",
   "metadata": {},
   "outputs": [],
   "source": []
  }
 ],
 "metadata": {
  "kernelspec": {
   "display_name": "Python 3 (ipykernel)",
   "language": "python",
   "name": "python3"
  },
  "language_info": {
   "codemirror_mode": {
    "name": "ipython",
    "version": 3
   },
   "file_extension": ".py",
   "mimetype": "text/x-python",
   "name": "python",
   "nbconvert_exporter": "python",
   "pygments_lexer": "ipython3",
   "version": "3.9.7"
  }
 },
 "nbformat": 4,
 "nbformat_minor": 5
}
